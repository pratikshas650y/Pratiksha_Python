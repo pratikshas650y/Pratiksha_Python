{
  "nbformat": 4,
  "nbformat_minor": 0,
  "metadata": {
    "colab": {
      "provenance": []
    },
    "kernelspec": {
      "name": "python3",
      "display_name": "Python 3"
    },
    "language_info": {
      "name": "python"
    }
  },
  "cells": [
    {
      "cell_type": "code",
      "execution_count": null,
      "metadata": {
        "colab": {
          "base_uri": "https://localhost:8080/"
        },
        "id": "HpmbKqI7jltH",
        "outputId": "0ec1bf68-5f68-4ec7-f746-ea081ec8cab5"
      },
      "outputs": [
        {
          "output_type": "stream",
          "name": "stdout",
          "text": [
            "hello world\n"
          ]
        }
      ],
      "source": [
        "#Starting of Python\n",
        "\n",
        "print(\"hello world\")"
      ]
    },
    {
      "cell_type": "code",
      "source": [
        "print(\"Pratiksha Singh\")"
      ],
      "metadata": {
        "colab": {
          "base_uri": "https://localhost:8080/"
        },
        "id": "ZKbWG3fzrEL6",
        "outputId": "faf24fa1-ff1f-4282-ddbf-9c7323825160"
      },
      "execution_count": null,
      "outputs": [
        {
          "output_type": "stream",
          "name": "stdout",
          "text": [
            "Pratiksha Singh\n"
          ]
        }
      ]
    },
    {
      "cell_type": "code",
      "source": [
        "ashdkjas"
      ],
      "metadata": {
        "id": "34ZbDQBAxLWX"
      },
      "execution_count": null,
      "outputs": []
    },
    {
      "cell_type": "code",
      "source": [
        "#string slicing and indexing\n",
        "\n",
        "s=\"Bangalore\"\n",
        "print(s[3:0:-1])"
      ],
      "metadata": {
        "id": "08unqkpp4bf4",
        "outputId": "572c1c80-995c-44f9-d06c-e4a2495a5e99",
        "colab": {
          "base_uri": "https://localhost:8080/"
        }
      },
      "execution_count": 2,
      "outputs": [
        {
          "output_type": "stream",
          "name": "stdout",
          "text": [
            "gna\n"
          ]
        }
      ]
    },
    {
      "cell_type": "code",
      "source": [
        "print(s[7:1:2])"
      ],
      "metadata": {
        "id": "C_CdlGgc43C8",
        "outputId": "1e32f182-f022-4868-8cc8-453cc0996689",
        "colab": {
          "base_uri": "https://localhost:8080/"
        }
      },
      "execution_count": 3,
      "outputs": [
        {
          "output_type": "stream",
          "name": "stdout",
          "text": [
            "\n"
          ]
        }
      ]
    },
    {
      "cell_type": "code",
      "source": [
        "print(s[-9:-4:2])"
      ],
      "metadata": {
        "id": "xVvXU-l45ZWX",
        "outputId": "f2938510-ca2c-4c80-abc3-6fef973da18e",
        "colab": {
          "base_uri": "https://localhost:8080/"
        }
      },
      "execution_count": 4,
      "outputs": [
        {
          "output_type": "stream",
          "name": "stdout",
          "text": [
            "Bna\n"
          ]
        }
      ]
    },
    {
      "cell_type": "code",
      "source": [
        "print(s[-9:7:1])"
      ],
      "metadata": {
        "id": "CqRgCRIw5xWy",
        "outputId": "1471f760-dd06-4e01-b7f4-9715190fe312",
        "colab": {
          "base_uri": "https://localhost:8080/"
        }
      },
      "execution_count": 5,
      "outputs": [
        {
          "output_type": "stream",
          "name": "stdout",
          "text": [
            "Bangalo\n"
          ]
        }
      ]
    },
    {
      "cell_type": "code",
      "source": [
        "string=\"Hello, World!\"\n",
        "print(string[-5:2:-2])"
      ],
      "metadata": {
        "id": "z1DQCeMR7Vuv",
        "outputId": "eb5c0204-30fd-4ee4-f3da-42cfc6505b00",
        "colab": {
          "base_uri": "https://localhost:8080/"
        }
      },
      "execution_count": 10,
      "outputs": [
        {
          "output_type": "stream",
          "name": "stdout",
          "text": [
            "o o\n"
          ]
        }
      ]
    },
    {
      "cell_type": "code",
      "source": [
        "string=\"Python us fun!\"\n",
        "print(string[:5][::-1])"
      ],
      "metadata": {
        "id": "ty4ArjEB9fm9",
        "outputId": "e8209920-3c1a-4421-ae9b-027dcd4c6442",
        "colab": {
          "base_uri": "https://localhost:8080/"
        }
      },
      "execution_count": 12,
      "outputs": [
        {
          "output_type": "stream",
          "name": "stdout",
          "text": [
            "ohtyP\n"
          ]
        }
      ]
    },
    {
      "cell_type": "code",
      "source": [
        "print(string[::5][::-1])"
      ],
      "metadata": {
        "id": "pyN0zy6X-Ayu",
        "outputId": "56960d85-0e7a-434a-b8a1-8123982f6088",
        "colab": {
          "base_uri": "https://localhost:8080/"
        }
      },
      "execution_count": 13,
      "outputs": [
        {
          "output_type": "stream",
          "name": "stdout",
          "text": [
            "fnP\n"
          ]
        }
      ]
    },
    {
      "cell_type": "code",
      "source": [
        "string=\"Programming\"\n",
        "print(string[3:len(string)-4])"
      ],
      "metadata": {
        "id": "Y_PesXnW-GqE",
        "outputId": "4f5ff35d-c2d9-44df-e9b8-bbdf20b782c3",
        "colab": {
          "base_uri": "https://localhost:8080/"
        }
      },
      "execution_count": 14,
      "outputs": [
        {
          "output_type": "stream",
          "name": "stdout",
          "text": [
            "gram\n"
          ]
        }
      ]
    },
    {
      "cell_type": "code",
      "source": [
        "# if statement\n",
        "if 10>5:\n",
        "  print(\"start of if\")\n",
        "  print(\"10 is greater number\")\n",
        "  print(\"end of if\")\n",
        "\n",
        "print(\"end of program\")"
      ],
      "metadata": {
        "id": "1sNGCWoU_CmP",
        "outputId": "8c7caf1c-6807-4d72-c892-6e9b4e86e006",
        "colab": {
          "base_uri": "https://localhost:8080/"
        }
      },
      "execution_count": 15,
      "outputs": [
        {
          "output_type": "stream",
          "name": "stdout",
          "text": [
            "start of if\n",
            "10 is greater number\n",
            "end of if\n",
            "end of program\n"
          ]
        }
      ]
    },
    {
      "cell_type": "code",
      "source": [
        "# input function\n",
        "\n",
        "a = input(\"Enter a number: \")\n",
        "print(a)\n",
        "print(type(a))"
      ],
      "metadata": {
        "id": "nGSvNRWYA_mn",
        "outputId": "c8e4de00-f272-486b-c9cd-5c0299e39508",
        "colab": {
          "base_uri": "https://localhost:8080/"
        }
      },
      "execution_count": 17,
      "outputs": [
        {
          "output_type": "stream",
          "name": "stdout",
          "text": [
            "Enter a number: 10\n",
            "10\n",
            "<class 'str'>\n"
          ]
        }
      ]
    },
    {
      "cell_type": "code",
      "source": [
        "a = float(input(\"Enter a number: \"))\n",
        "print(a)\n",
        "print(type(a))"
      ],
      "metadata": {
        "id": "eixhKQ5RB5M5",
        "outputId": "a20f1441-840e-409f-840e-09791f50094b",
        "colab": {
          "base_uri": "https://localhost:8080/"
        }
      },
      "execution_count": 18,
      "outputs": [
        {
          "output_type": "stream",
          "name": "stdout",
          "text": [
            "Enter a number: 12\n",
            "12.0\n",
            "<class 'float'>\n"
          ]
        }
      ]
    },
    {
      "cell_type": "code",
      "source": [
        "a = int(input(\"Enter a number: \"))\n",
        "print(a)\n",
        "print(type(a))"
      ],
      "metadata": {
        "id": "Iqo1yigACN1G",
        "outputId": "aeb9028b-fcf7-4993-dc14-f64f1232ff10",
        "colab": {
          "base_uri": "https://localhost:8080/"
        }
      },
      "execution_count": 19,
      "outputs": [
        {
          "output_type": "stream",
          "name": "stdout",
          "text": [
            "Enter a number: 5\n",
            "5\n",
            "<class 'int'>\n"
          ]
        }
      ]
    },
    {
      "cell_type": "code",
      "source": [
        "# if else statement\n",
        "\n",
        "a = int(input(\"Enter a value=\"))\n",
        "b = int(input(\"Enter a value=\"))\n",
        "\n",
        "if a>b:\n",
        "  print(\"a is greater number\")\n",
        "  print(\"if block\")\n",
        "  print(\"end of if\")\n",
        "\n",
        "else:\n",
        "   print(\"b is greater number\")\n",
        "   print(\"else block\")\n",
        "   print(\"end of else\")\n",
        "\n",
        "print(\"end of program\")"
      ],
      "metadata": {
        "id": "_FcrzTF7DNTE",
        "outputId": "96d04fd5-777b-491b-c3bc-e7546cf58a0e",
        "colab": {
          "base_uri": "https://localhost:8080/"
        }
      },
      "execution_count": 25,
      "outputs": [
        {
          "output_type": "stream",
          "name": "stdout",
          "text": [
            "Enter a value=7\n",
            "Enter a value=9\n",
            "b is greater number\n",
            "else block\n",
            "end of else\n",
            "end of program\n"
          ]
        }
      ]
    },
    {
      "cell_type": "code",
      "source": [
        "# if else statement ladder\n",
        "\n",
        "a = int(input(\"Enter a value=\"))\n",
        "b = int(input(\"Enter a value=\"))\n",
        "\n",
        "if a>b:\n",
        "  print(\"a is greater number\")\n",
        "  print(\"if block\")\n",
        "  print(\"end of if\")\n",
        "elif a==b:\n",
        "  print(\"a and b are equal\")\n",
        "  print(\"elif block\")\n",
        "  print(\"end of elif\")\n",
        "\n",
        "else:\n",
        "   print(\"b is greater number\")\n",
        "   print(\"else block\")\n",
        "   print(\"end of else\")\n",
        "\n",
        "print(\"end of program\")"
      ],
      "metadata": {
        "id": "bygJ0l2ZAy6u",
        "outputId": "63ad831c-f371-434e-e366-6d2459b9d77c",
        "colab": {
          "base_uri": "https://localhost:8080/"
        }
      },
      "execution_count": 24,
      "outputs": [
        {
          "output_type": "stream",
          "name": "stdout",
          "text": [
            "Enter a value=9\n",
            "Enter a value=7\n",
            "a is greater number\n",
            "if block\n",
            "end of if\n",
            "end of program\n"
          ]
        }
      ]
    },
    {
      "cell_type": "code",
      "source": [
        "# Code for Palindrome\n",
        "\n",
        "s = input(\"Enter a string: \")\n",
        "if s == s[::-1]:\n",
        "  print(\"It's a Palindrome\")\n",
        "  print(\"if block\")\n",
        "  print(\"end of if\")\n",
        "\n",
        "else:\n",
        "  print(\"It's not a palindrome\")\n",
        "  print(\"else block\")\n",
        "  print(\"end of else\")\n",
        "\n",
        "print(\"end of program\")"
      ],
      "metadata": {
        "id": "62JKRaIVDf1y",
        "outputId": "c90b917d-796a-4b3d-89f0-acb7959ecee1",
        "colab": {
          "base_uri": "https://localhost:8080/"
        }
      },
      "execution_count": 31,
      "outputs": [
        {
          "output_type": "stream",
          "name": "stdout",
          "text": [
            "Enter a string: MalayalaM\n",
            "It's a Palindrome\n",
            "if block\n",
            "end of if\n",
            "end of program\n"
          ]
        }
      ]
    },
    {
      "cell_type": "code",
      "source": [
        "# Code for Pelindrome\n",
        "\n",
        "text = input(\"Enter a string: \")\n",
        "text = text.replace(\" \", \"\").lower()\n",
        "\n",
        "if text == text[::-1]:\n",
        "  print(\"It's a Palindrome\")\n",
        "  print(\"if block\")\n",
        "  print(\"end of if\")\n",
        "\n",
        "else:\n",
        "  print(\"It's not a palindrome\")\n",
        "  print(\"else block\")\n",
        "  print(\"end of else\")\n",
        "\n",
        "print(\"end of program\")"
      ],
      "metadata": {
        "id": "cQLzu339E3m_",
        "outputId": "e40d9414-24c7-487c-b290-c578707ac5ed",
        "colab": {
          "base_uri": "https://localhost:8080/"
        }
      },
      "execution_count": 32,
      "outputs": [
        {
          "output_type": "stream",
          "name": "stdout",
          "text": [
            "Enter a string: Malayalam\n",
            "It's a Palindrome\n",
            "if block\n",
            "end of if\n",
            "end of program\n"
          ]
        }
      ]
    },
    {
      "cell_type": "code",
      "source": [
        "# Code to change string to lower case to check pelindrome\n",
        "\n",
        "text = input(\"Enter a string: \")\n",
        "text = text.lower()\n",
        "\n",
        "if text == text[::-1]:\n",
        "  print(\"It's a Palindrome\")\n",
        "  print(\"if block\")\n",
        "  print(\"end of if\")\n",
        "\n",
        "else:\n",
        "  print(\"It's not a palindrome\")\n",
        "  print(\"else block\")\n",
        "  print(\"end of else\")\n",
        "\n",
        "print(\"end of program\")"
      ],
      "metadata": {
        "id": "fBdQD5SgFd3j",
        "outputId": "450f0285-e696-4952-8cd7-a3843614b7c2",
        "colab": {
          "base_uri": "https://localhost:8080/"
        }
      },
      "execution_count": 33,
      "outputs": [
        {
          "output_type": "stream",
          "name": "stdout",
          "text": [
            "Enter a string: MalaYalam\n",
            "It's a Palindrome\n",
            "if block\n",
            "end of if\n",
            "end of program\n"
          ]
        }
      ]
    },
    {
      "cell_type": "code",
      "source": [
        "# Nested if code (if inside if statement)\n",
        "\n",
        "a = int(input(\"Enter a value=\"))\n",
        "b = int(input(\"Enter a value=\"))\n",
        "c = int(input(\"Enter a value=\"))\n",
        "\n",
        "if a>b:\n",
        "  if a>c:\n",
        "    print(\"a is greater number\")\n",
        "    print(\"if block\")\n",
        "    print(\"end of if\")\n",
        "  else:\n",
        "    print(\"c is greater number\")\n",
        "    print(\"else block\")\n",
        "    print(\"end of else\")\n",
        "elif b>c:\n",
        "  print(\"b is greater number\")\n",
        "  print(\"elif block\")\n",
        "  print(\"end of elif\")\n",
        "else:\n",
        "  print(\"c is greater number\")\n",
        "  print(\"else block\")\n",
        "  print(\"end of else\")\n",
        "\n",
        "print(\"end of program\")\n",
        "\n"
      ],
      "metadata": {
        "id": "Kz-X_1OHF9NR",
        "outputId": "e4bffbee-4fdc-41bc-b710-a3e5b0776523",
        "colab": {
          "base_uri": "https://localhost:8080/"
        }
      },
      "execution_count": 34,
      "outputs": [
        {
          "output_type": "stream",
          "name": "stdout",
          "text": [
            "Enter a value=28\n",
            "Enter a value=476\n",
            "Enter a value=42\n",
            "b is greater number\n",
            "elif block\n",
            "end of elif\n",
            "end of program\n"
          ]
        }
      ]
    },
    {
      "cell_type": "code",
      "source": [
        "# while loop\n",
        "\n",
        "i = 10\n",
        "\n",
        "while i<15 :\n",
        "  print(i)\n",
        "  i = i+1\n",
        "\n",
        "print(\"end of while loop\")\n"
      ],
      "metadata": {
        "id": "-Gb1MG4vGoxs",
        "outputId": "a243284f-8317-4513-f40b-d095f81e85a0",
        "colab": {
          "base_uri": "https://localhost:8080/"
        }
      },
      "execution_count": 37,
      "outputs": [
        {
          "output_type": "stream",
          "name": "stdout",
          "text": [
            "10\n",
            "11\n",
            "12\n",
            "13\n",
            "14\n",
            "end of while loop\n"
          ]
        }
      ]
    },
    {
      "cell_type": "code",
      "source": [
        "# example 2 for while loop\n",
        "\n",
        "n = 29\n",
        "\n",
        "while n < 20:\n",
        "  print(n)\n",
        "  n = n-1\n",
        "\n",
        "print(\"end of while loop\")\n"
      ],
      "metadata": {
        "id": "cN2vb_aHHpD_",
        "outputId": "7ca29fb4-eecd-4fbb-a947-28b2a52041a3",
        "colab": {
          "base_uri": "https://localhost:8080/"
        }
      },
      "execution_count": 44,
      "outputs": [
        {
          "output_type": "stream",
          "name": "stdout",
          "text": [
            "end of while loop\n"
          ]
        }
      ]
    },
    {
      "cell_type": "code",
      "source": [
        "# Multiplication Table\n",
        "\n",
        "num = int(input(\"Enter a number: \"))\n",
        "\n",
        "i = 1\n",
        "\n",
        "while i <= 10:\n",
        "  print(num , \"*\" , i , \"=\", i*num)\n",
        "  i=i+1\n",
        "\n"
      ],
      "metadata": {
        "id": "6WiBhguEIk9r",
        "outputId": "4da5731e-26ff-44ae-8b58-99a76dafa1a5",
        "colab": {
          "base_uri": "https://localhost:8080/"
        }
      },
      "execution_count": 46,
      "outputs": [
        {
          "output_type": "stream",
          "name": "stdout",
          "text": [
            "Enter a number: 7\n",
            "7 * 1 = 7\n",
            "7 * 2 = 14\n",
            "7 * 3 = 21\n",
            "7 * 4 = 28\n",
            "7 * 5 = 35\n",
            "7 * 6 = 42\n",
            "7 * 7 = 49\n",
            "7 * 8 = 56\n",
            "7 * 9 = 63\n",
            "7 * 10 = 70\n"
          ]
        }
      ]
    },
    {
      "cell_type": "code",
      "source": [
        "# For loop code\n",
        "\n",
        "s = \"Hari\"\n",
        "\n",
        "for i in s:\n",
        "  print(i)\n",
        ""
      ],
      "metadata": {
        "id": "_D6HFmW8JS4X",
        "outputId": "0453e00d-65f1-4755-a053-32f9237177a7",
        "colab": {
          "base_uri": "https://localhost:8080/"
        }
      },
      "execution_count": 47,
      "outputs": [
        {
          "output_type": "stream",
          "name": "stdout",
          "text": [
            "H\n",
            "a\n",
            "r\n",
            "i\n"
          ]
        }
      ]
    },
    {
      "cell_type": "code",
      "source": [
        "# For loop code 2\n",
        "\n",
        "s = \"John\"\n",
        "\n",
        "for i in s:\n",
        "  print(i)"
      ],
      "metadata": {
        "id": "7QdHxnfmJ--c",
        "outputId": "6d15732f-90aa-482d-c135-a85c10f9616c",
        "colab": {
          "base_uri": "https://localhost:8080/"
        }
      },
      "execution_count": 48,
      "outputs": [
        {
          "output_type": "stream",
          "name": "stdout",
          "text": [
            "J\n",
            "o\n",
            "h\n",
            "n\n"
          ]
        }
      ]
    },
    {
      "cell_type": "code",
      "source": [
        "# For loop code 3\n",
        "\n",
        "s= [10,20, 30, 40, 50]\n",
        "\n",
        "for i in s:\n",
        "  print(i)"
      ],
      "metadata": {
        "id": "yk61MEhdKLQT",
        "outputId": "161c50b1-b2f0-4558-fb19-fdd18ffe6524",
        "colab": {
          "base_uri": "https://localhost:8080/"
        }
      },
      "execution_count": 49,
      "outputs": [
        {
          "output_type": "stream",
          "name": "stdout",
          "text": [
            "10\n",
            "20\n",
            "30\n",
            "40\n",
            "50\n"
          ]
        }
      ]
    },
    {
      "cell_type": "code",
      "source": [
        "# for loop code 4\n",
        "\n",
        "s = [10, 20, 30, 40, 50]\n",
        "\n",
        "for i in s:\n",
        "  print(i * 30)"
      ],
      "metadata": {
        "id": "q1MDYRdDKZAI",
        "outputId": "c796bb9a-9ce6-4a1a-ba3b-79ffddc47e22",
        "colab": {
          "base_uri": "https://localhost:8080/"
        }
      },
      "execution_count": 50,
      "outputs": [
        {
          "output_type": "stream",
          "name": "stdout",
          "text": [
            "300\n",
            "600\n",
            "900\n",
            "1200\n",
            "1500\n"
          ]
        }
      ]
    },
    {
      "cell_type": "code",
      "source": [
        "# for loop code 5\n",
        "\n",
        "s = [10,20,30,40,50]\n",
        "\n",
        "for i in s:\n",
        "  print(i/5)"
      ],
      "metadata": {
        "id": "Kc7r6HwCKmSK",
        "outputId": "dd411fff-f3b8-4c8f-dc14-83ee2ed01c20",
        "colab": {
          "base_uri": "https://localhost:8080/"
        }
      },
      "execution_count": 54,
      "outputs": [
        {
          "output_type": "stream",
          "name": "stdout",
          "text": [
            "2.0\n",
            "4.0\n",
            "6.0\n",
            "8.0\n",
            "10.0\n"
          ]
        }
      ]
    },
    {
      "cell_type": "code",
      "source": [
        "# code 6\n",
        "\n",
        "\n",
        "for i in [10,\"ntt\", 20.3]:\n",
        "  print(i)\n",
        "  print(type(i))"
      ],
      "metadata": {
        "id": "_YuyaWOoLfLG",
        "outputId": "e415f7a5-498a-45b3-e7a3-ae60fbe53989",
        "colab": {
          "base_uri": "https://localhost:8080/"
        }
      },
      "execution_count": 56,
      "outputs": [
        {
          "output_type": "stream",
          "name": "stdout",
          "text": [
            "10\n",
            "<class 'int'>\n",
            "ntt\n",
            "<class 'str'>\n",
            "20.3\n",
            "<class 'float'>\n"
          ]
        }
      ]
    },
    {
      "cell_type": "code",
      "source": [
        "# for loop code 7\n",
        "\n",
        "s = \"2025John\"\n",
        "\n",
        "for i in s:\n",
        "  print(i)\n",
        "  print(type(i))"
      ],
      "metadata": {
        "id": "00RyCzmyL3DL",
        "outputId": "5b6c5fd0-41a0-4b69-cbea-05bd13f958a1",
        "colab": {
          "base_uri": "https://localhost:8080/"
        }
      },
      "execution_count": 57,
      "outputs": [
        {
          "output_type": "stream",
          "name": "stdout",
          "text": [
            "2\n",
            "<class 'str'>\n",
            "0\n",
            "<class 'str'>\n",
            "2\n",
            "<class 'str'>\n",
            "5\n",
            "<class 'str'>\n",
            "J\n",
            "<class 'str'>\n",
            "o\n",
            "<class 'str'>\n",
            "h\n",
            "<class 'str'>\n",
            "n\n",
            "<class 'str'>\n"
          ]
        }
      ]
    }
  ]
}